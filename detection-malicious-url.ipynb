{
 "cells": [
  {
   "cell_type": "markdown",
   "id": "ff35add6",
   "metadata": {
    "papermill": {
     "duration": 0.007063,
     "end_time": "2024-05-20T00:54:34.057771",
     "exception": false,
     "start_time": "2024-05-20T00:54:34.050708",
     "status": "completed"
    },
    "tags": []
   },
   "source": [
    "# Detection Malicious URL Using ML Models¶\n",
    "---"
   ]
  },
  {
   "cell_type": "markdown",
   "id": "75ca78fe",
   "metadata": {
    "papermill": {
     "duration": 0.006739,
     "end_time": "2024-05-20T00:54:34.071693",
     "exception": false,
     "start_time": "2024-05-20T00:54:34.064954",
     "status": "completed"
    },
    "tags": []
   },
   "source": [
    "## The Libraries "
   ]
  },
  {
   "cell_type": "code",
   "execution_count": 1,
   "id": "b7cef7ab",
   "metadata": {
    "execution": {
     "iopub.execute_input": "2024-05-20T00:54:34.086095Z",
     "iopub.status.busy": "2024-05-20T00:54:34.085672Z",
     "iopub.status.idle": "2024-05-20T00:54:51.075515Z",
     "shell.execute_reply": "2024-05-20T00:54:51.073798Z"
    },
    "papermill": {
     "duration": 17.000074,
     "end_time": "2024-05-20T00:54:51.078211",
     "exception": false,
     "start_time": "2024-05-20T00:54:34.078137",
     "status": "completed"
    },
    "tags": []
   },
   "outputs": [
    {
     "name": "stdout",
     "output_type": "stream",
     "text": [
      "Collecting tld\r\n",
      "  Downloading tld-0.13-py2.py3-none-any.whl.metadata (9.4 kB)\r\n",
      "Downloading tld-0.13-py2.py3-none-any.whl (263 kB)\r\n",
      "\u001b[2K   \u001b[90m━━━━━━━━━━━━━━━━━━━━━━━━━━━━━━━━━━━━━━━━\u001b[0m \u001b[32m263.8/263.8 kB\u001b[0m \u001b[31m4.0 MB/s\u001b[0m eta \u001b[36m0:00:00\u001b[0m\r\n",
      "\u001b[?25hInstalling collected packages: tld\r\n",
      "Successfully installed tld-0.13\r\n",
      "Note: you may need to restart the kernel to use updated packages.\n"
     ]
    }
   ],
   "source": [
    "pip install tld"
   ]
  },
  {
   "cell_type": "code",
   "execution_count": 2,
   "id": "5031217c",
   "metadata": {
    "_cell_guid": "b1076dfc-b9ad-4769-8c92-a6c4dae69d19",
    "_uuid": "8f2839f25d086af736a60e9eeb907d3b93b6e0e5",
    "execution": {
     "iopub.execute_input": "2024-05-20T00:54:51.095013Z",
     "iopub.status.busy": "2024-05-20T00:54:51.093941Z",
     "iopub.status.idle": "2024-05-20T00:54:54.052593Z",
     "shell.execute_reply": "2024-05-20T00:54:54.051262Z"
    },
    "papermill": {
     "duration": 2.969922,
     "end_time": "2024-05-20T00:54:54.055350",
     "exception": false,
     "start_time": "2024-05-20T00:54:51.085428",
     "status": "completed"
    },
    "tags": []
   },
   "outputs": [],
   "source": [
    "# Standard Library\n",
    "import re  # Provides support for regular expressions\n",
    "from urllib.parse import urlparse  # Provides functions to parse URLs\n",
    "\n",
    "# External Libraries\n",
    "import numpy as np  # Fundamental package for numerical computations in Python\n",
    "import pandas as pd  # Data manipulation and analysis library\n",
    "import seaborn as sns  # Statistical data visualization library based on matplotlib\n",
    "import matplotlib.pyplot as plt  # Comprehensive library for creating static, animated, and interactive visualizations\n",
    "from wordcloud import WordCloud  # Library to generate word clouds\n",
    "\n",
    "# External Libraries - Terminal Colors\n",
    "from colorama import Fore  # Provides cross-platform colored terminal text\n",
    "\n",
    "# External Libraries - Machine Learning\n",
    "from sklearn.model_selection import train_test_split  # Utility for splitting datasets into training and testing sets\n",
    "from sklearn.metrics import confusion_matrix, classification_report, accuracy_score  # Performance metrics for classification tasks\n",
    "from sklearn.tree import DecisionTreeClassifier  # Decision tree classifier\n",
    "from sklearn.ensemble import RandomForestClassifier, AdaBoostClassifier, ExtraTreesClassifier  # Ensemble classifiers\n",
    "from sklearn.neighbors import KNeighborsClassifier  # K-nearest neighbors classifier\n",
    "from sklearn.linear_model import SGDClassifier  # Stochastic Gradient Descent classifier\n",
    "from sklearn.naive_bayes import GaussianNB  # Gaussian Naive Bayes classifier\n",
    "\n",
    "# External Libraries - Top-level Domain (TLD)\n",
    "from tld import get_tld, is_tld  # Functions for getting and verifying top-level domains"
   ]
  },
  {
   "cell_type": "markdown",
   "id": "3488534b",
   "metadata": {
    "papermill": {
     "duration": 0.006588,
     "end_time": "2024-05-20T00:54:54.068979",
     "exception": false,
     "start_time": "2024-05-20T00:54:54.062391",
     "status": "completed"
    },
    "tags": []
   },
   "source": [
    "---\n",
    "## Importing the data"
   ]
  },
  {
   "cell_type": "code",
   "execution_count": 3,
   "id": "b1f439e4",
   "metadata": {
    "execution": {
     "iopub.execute_input": "2024-05-20T00:54:54.084610Z",
     "iopub.status.busy": "2024-05-20T00:54:54.084058Z",
     "iopub.status.idle": "2024-05-20T00:54:55.728782Z",
     "shell.execute_reply": "2024-05-20T00:54:55.727641Z"
    },
    "papermill": {
     "duration": 1.655539,
     "end_time": "2024-05-20T00:54:55.731377",
     "exception": false,
     "start_time": "2024-05-20T00:54:54.075838",
     "status": "completed"
    },
    "tags": []
   },
   "outputs": [
    {
     "data": {
      "text/html": [
       "<div>\n",
       "<style scoped>\n",
       "    .dataframe tbody tr th:only-of-type {\n",
       "        vertical-align: middle;\n",
       "    }\n",
       "\n",
       "    .dataframe tbody tr th {\n",
       "        vertical-align: top;\n",
       "    }\n",
       "\n",
       "    .dataframe thead th {\n",
       "        text-align: right;\n",
       "    }\n",
       "</style>\n",
       "<table border=\"1\" class=\"dataframe\">\n",
       "  <thead>\n",
       "    <tr style=\"text-align: right;\">\n",
       "      <th></th>\n",
       "      <th>url</th>\n",
       "      <th>type</th>\n",
       "    </tr>\n",
       "  </thead>\n",
       "  <tbody>\n",
       "    <tr>\n",
       "      <th>0</th>\n",
       "      <td>br-icloud.com.br</td>\n",
       "      <td>phishing</td>\n",
       "    </tr>\n",
       "    <tr>\n",
       "      <th>1</th>\n",
       "      <td>mp3raid.com/music/krizz_kaliko.html</td>\n",
       "      <td>benign</td>\n",
       "    </tr>\n",
       "    <tr>\n",
       "      <th>2</th>\n",
       "      <td>bopsecrets.org/rexroth/cr/1.htm</td>\n",
       "      <td>benign</td>\n",
       "    </tr>\n",
       "    <tr>\n",
       "      <th>3</th>\n",
       "      <td>http://www.garage-pirenne.be/index.php?option=...</td>\n",
       "      <td>defacement</td>\n",
       "    </tr>\n",
       "    <tr>\n",
       "      <th>4</th>\n",
       "      <td>http://adventure-nicaragua.net/index.php?optio...</td>\n",
       "      <td>defacement</td>\n",
       "    </tr>\n",
       "  </tbody>\n",
       "</table>\n",
       "</div>"
      ],
      "text/plain": [
       "                                                 url        type\n",
       "0                                   br-icloud.com.br    phishing\n",
       "1                mp3raid.com/music/krizz_kaliko.html      benign\n",
       "2                    bopsecrets.org/rexroth/cr/1.htm      benign\n",
       "3  http://www.garage-pirenne.be/index.php?option=...  defacement\n",
       "4  http://adventure-nicaragua.net/index.php?optio...  defacement"
      ]
     },
     "execution_count": 3,
     "metadata": {},
     "output_type": "execute_result"
    }
   ],
   "source": [
    "data = pd.read_csv('../input/malicious-urls-dataset/malicious_phish.csv')\n",
    "data.head()"
   ]
  },
  {
   "cell_type": "markdown",
   "id": "9fe49da3",
   "metadata": {
    "papermill": {
     "duration": 0.006941,
     "end_time": "2024-05-20T00:54:55.745807",
     "exception": false,
     "start_time": "2024-05-20T00:54:55.738866",
     "status": "completed"
    },
    "tags": []
   },
   "source": [
    "---\n",
    "## Info"
   ]
  },
  {
   "cell_type": "code",
   "execution_count": 4,
   "id": "5c832e61",
   "metadata": {
    "execution": {
     "iopub.execute_input": "2024-05-20T00:54:55.762090Z",
     "iopub.status.busy": "2024-05-20T00:54:55.761648Z",
     "iopub.status.idle": "2024-05-20T00:54:55.933791Z",
     "shell.execute_reply": "2024-05-20T00:54:55.932675Z"
    },
    "papermill": {
     "duration": 0.183614,
     "end_time": "2024-05-20T00:54:55.936545",
     "exception": false,
     "start_time": "2024-05-20T00:54:55.752931",
     "status": "completed"
    },
    "tags": []
   },
   "outputs": [
    {
     "name": "stdout",
     "output_type": "stream",
     "text": [
      "<class 'pandas.core.frame.DataFrame'>\n",
      "RangeIndex: 651191 entries, 0 to 651190\n",
      "Data columns (total 2 columns):\n",
      " #   Column  Non-Null Count   Dtype \n",
      "---  ------  --------------   ----- \n",
      " 0   url     651191 non-null  object\n",
      " 1   type    651191 non-null  object\n",
      "dtypes: object(2)\n",
      "memory usage: 9.9+ MB\n"
     ]
    }
   ],
   "source": [
    "data.info()"
   ]
  },
  {
   "cell_type": "markdown",
   "id": "a7936c9e",
   "metadata": {
    "papermill": {
     "duration": 0.006873,
     "end_time": "2024-05-20T00:54:55.950794",
     "exception": false,
     "start_time": "2024-05-20T00:54:55.943921",
     "status": "completed"
    },
    "tags": []
   },
   "source": [
    "---\n",
    "## Checking for NaN"
   ]
  },
  {
   "cell_type": "markdown",
   "id": "b68bdafb",
   "metadata": {
    "papermill": {
     "duration": 0.006754,
     "end_time": "2024-05-20T00:54:55.964623",
     "exception": false,
     "start_time": "2024-05-20T00:54:55.957869",
     "status": "completed"
    },
    "tags": []
   },
   "source": [
    "- ### Checking the Null Values"
   ]
  },
  {
   "cell_type": "code",
   "execution_count": 5,
   "id": "9eb977c5",
   "metadata": {
    "execution": {
     "iopub.execute_input": "2024-05-20T00:54:55.980750Z",
     "iopub.status.busy": "2024-05-20T00:54:55.980341Z",
     "iopub.status.idle": "2024-05-20T00:54:56.130382Z",
     "shell.execute_reply": "2024-05-20T00:54:56.129291Z"
    },
    "papermill": {
     "duration": 0.161179,
     "end_time": "2024-05-20T00:54:56.132965",
     "exception": false,
     "start_time": "2024-05-20T00:54:55.971786",
     "status": "completed"
    },
    "tags": []
   },
   "outputs": [
    {
     "data": {
      "text/plain": [
       "url     0\n",
       "type    0\n",
       "dtype: int64"
      ]
     },
     "execution_count": 5,
     "metadata": {},
     "output_type": "execute_result"
    }
   ],
   "source": [
    "data.isnull().sum()"
   ]
  },
  {
   "cell_type": "markdown",
   "id": "f4162e24",
   "metadata": {
    "papermill": {
     "duration": 0.00841,
     "end_time": "2024-05-20T00:54:56.149247",
     "exception": false,
     "start_time": "2024-05-20T00:54:56.140837",
     "status": "completed"
    },
    "tags": []
   },
   "source": [
    "- ### Checking the **counts**"
   ]
  },
  {
   "cell_type": "code",
   "execution_count": 6,
   "id": "9aa84dee",
   "metadata": {
    "execution": {
     "iopub.execute_input": "2024-05-20T00:54:56.166389Z",
     "iopub.status.busy": "2024-05-20T00:54:56.165651Z",
     "iopub.status.idle": "2024-05-20T00:54:56.280788Z",
     "shell.execute_reply": "2024-05-20T00:54:56.279616Z"
    },
    "papermill": {
     "duration": 0.126585,
     "end_time": "2024-05-20T00:54:56.283241",
     "exception": false,
     "start_time": "2024-05-20T00:54:56.156656",
     "status": "completed"
    },
    "tags": []
   },
   "outputs": [
    {
     "data": {
      "text/plain": [
       "type\n",
       "benign        428103\n",
       "defacement     96457\n",
       "phishing       94111\n",
       "malware        32520\n",
       "Name: count, dtype: int64"
      ]
     },
     "execution_count": 6,
     "metadata": {},
     "output_type": "execute_result"
    }
   ],
   "source": [
    "count = data.type.value_counts()\n",
    "count"
   ]
  },
  {
   "cell_type": "code",
   "execution_count": 7,
   "id": "6565b736",
   "metadata": {
    "execution": {
     "iopub.execute_input": "2024-05-20T00:54:56.299840Z",
     "iopub.status.busy": "2024-05-20T00:54:56.299439Z",
     "iopub.status.idle": "2024-05-20T00:54:56.601755Z",
     "shell.execute_reply": "2024-05-20T00:54:56.600625Z"
    },
    "papermill": {
     "duration": 0.313472,
     "end_time": "2024-05-20T00:54:56.604295",
     "exception": false,
     "start_time": "2024-05-20T00:54:56.290823",
     "status": "completed"
    },
    "tags": []
   },
   "outputs": [
    {
     "data": {
      "image/png": "[encoded data removed]",
      "text/plain": [
       "<Figure size 640x480 with 1 Axes>"
      ]
     },
     "metadata": {},
     "output_type": "display_data"
    }
   ],
   "source": [
    "sns.barplot(x=count.index, y=count)\n",
    "plt.xlabel('Types')\n",
    "plt.ylabel('Count');"
   ]
  },
  {
   "cell_type": "markdown",
   "id": "54ca5202",
   "metadata": {
    "papermill": {
     "duration": 0.007638,
     "end_time": "2024-05-20T00:54:56.620060",
     "exception": false,
     "start_time": "2024-05-20T00:54:56.612422",
     "status": "completed"
    },
    "tags": []
   },
   "source": [
    "### *leaving the \"www.\" might cause some issues because it is a constant thing between all the urls and it dosen't add any progression to the analysis process*"
   ]
  },
  {
   "cell_type": "code",
   "execution_count": 8,
   "id": "0dd49445",
   "metadata": {
    "execution": {
     "iopub.execute_input": "2024-05-20T00:54:56.637736Z",
     "iopub.status.busy": "2024-05-20T00:54:56.637348Z",
     "iopub.status.idle": "2024-05-20T00:54:57.399581Z",
     "shell.execute_reply": "2024-05-20T00:54:57.398350Z"
    },
    "papermill": {
     "duration": 0.774207,
     "end_time": "2024-05-20T00:54:57.402186",
     "exception": false,
     "start_time": "2024-05-20T00:54:56.627979",
     "status": "completed"
    },
    "tags": []
   },
   "outputs": [
    {
     "data": {
      "text/html": [
       "<div>\n",
       "<style scoped>\n",
       "    .dataframe tbody tr th:only-of-type {\n",
       "        vertical-align: middle;\n",
       "    }\n",
       "\n",
       "    .dataframe tbody tr th {\n",
       "        vertical-align: top;\n",
       "    }\n",
       "\n",
       "    .dataframe thead th {\n",
       "        text-align: right;\n",
       "    }\n",
       "</style>\n",
       "<table border=\"1\" class=\"dataframe\">\n",
       "  <thead>\n",
       "    <tr style=\"text-align: right;\">\n",
       "      <th></th>\n",
       "      <th>url</th>\n",
       "      <th>type</th>\n",
       "    </tr>\n",
       "  </thead>\n",
       "  <tbody>\n",
       "    <tr>\n",
       "      <th>0</th>\n",
       "      <td>br-icloud.com.br</td>\n",
       "      <td>phishing</td>\n",
       "    </tr>\n",
       "    <tr>\n",
       "      <th>1</th>\n",
       "      <td>mp3raid.com/music/krizz_kaliko.html</td>\n",
       "      <td>benign</td>\n",
       "    </tr>\n",
       "    <tr>\n",
       "      <th>2</th>\n",
       "      <td>bopsecrets.org/rexroth/cr/1.htm</td>\n",
       "      <td>benign</td>\n",
       "    </tr>\n",
       "    <tr>\n",
       "      <th>3</th>\n",
       "      <td>http://garage-pirenne.be/index.php?option=com_...</td>\n",
       "      <td>defacement</td>\n",
       "    </tr>\n",
       "    <tr>\n",
       "      <th>4</th>\n",
       "      <td>http://adventure-nicaragua.net/index.php?optio...</td>\n",
       "      <td>defacement</td>\n",
       "    </tr>\n",
       "    <tr>\n",
       "      <th>...</th>\n",
       "      <td>...</td>\n",
       "      <td>...</td>\n",
       "    </tr>\n",
       "    <tr>\n",
       "      <th>651186</th>\n",
       "      <td>xbox360.ign.com/objects/850/850402.html</td>\n",
       "      <td>phishing</td>\n",
       "    </tr>\n",
       "    <tr>\n",
       "      <th>651187</th>\n",
       "      <td>games.teamxbox.com/xbox-360/1860/Dead-Space/</td>\n",
       "      <td>phishing</td>\n",
       "    </tr>\n",
       "    <tr>\n",
       "      <th>651188</th>\n",
       "      <td>gamespot.com/xbox360/action/deadspace/</td>\n",
       "      <td>phishing</td>\n",
       "    </tr>\n",
       "    <tr>\n",
       "      <th>651189</th>\n",
       "      <td>en.wikipedia.org/wiki/Dead_Space_(video_game)</td>\n",
       "      <td>phishing</td>\n",
       "    </tr>\n",
       "    <tr>\n",
       "      <th>651190</th>\n",
       "      <td>angelfire.com/goth/devilmaycrytonite/</td>\n",
       "      <td>phishing</td>\n",
       "    </tr>\n",
       "  </tbody>\n",
       "</table>\n",
       "<p>651191 rows × 2 columns</p>\n",
       "</div>"
      ],
      "text/plain": [
       "                                                      url        type\n",
       "0                                        br-icloud.com.br    phishing\n",
       "1                     mp3raid.com/music/krizz_kaliko.html      benign\n",
       "2                         bopsecrets.org/rexroth/cr/1.htm      benign\n",
       "3       http://garage-pirenne.be/index.php?option=com_...  defacement\n",
       "4       http://adventure-nicaragua.net/index.php?optio...  defacement\n",
       "...                                                   ...         ...\n",
       "651186            xbox360.ign.com/objects/850/850402.html    phishing\n",
       "651187       games.teamxbox.com/xbox-360/1860/Dead-Space/    phishing\n",
       "651188             gamespot.com/xbox360/action/deadspace/    phishing\n",
       "651189      en.wikipedia.org/wiki/Dead_Space_(video_game)    phishing\n",
       "651190              angelfire.com/goth/devilmaycrytonite/    phishing\n",
       "\n",
       "[651191 rows x 2 columns]"
      ]
     },
     "execution_count": 8,
     "metadata": {},
     "output_type": "execute_result"
    }
   ],
   "source": [
    "data['url'] = data['url'].replace('www.', '', regex=True)\n",
    "data"
   ]
  },
  {
   "cell_type": "markdown",
   "id": "1f24cde0",
   "metadata": {
    "papermill": {
     "duration": 0.008222,
     "end_time": "2024-05-20T00:54:57.418727",
     "exception": false,
     "start_time": "2024-05-20T00:54:57.410505",
     "status": "completed"
    },
    "tags": []
   },
   "source": [
    "### *The following code is for mapping the string categories with numerical values, it facilitates further analysis or machine learning tasks.*"
   ]
  },
  {
   "cell_type": "code",
   "execution_count": 9,
   "id": "59170d46",
   "metadata": {
    "execution": {
     "iopub.execute_input": "2024-05-20T00:54:57.437641Z",
     "iopub.status.busy": "2024-05-20T00:54:57.436785Z",
     "iopub.status.idle": "2024-05-20T00:54:57.821109Z",
     "shell.execute_reply": "2024-05-20T00:54:57.820053Z"
    },
    "papermill": {
     "duration": 0.396875,
     "end_time": "2024-05-20T00:54:57.823967",
     "exception": false,
     "start_time": "2024-05-20T00:54:57.427092",
     "status": "completed"
    },
    "tags": []
   },
   "outputs": [],
   "source": [
    "#This for removing the warning of the replace function, in the future i would like to use another mapping method\n",
    "pd.set_option('future.no_silent_downcasting', True)\n",
    "#----------\n",
    "\n",
    "rem = {\"Category\": {\"benign\": 0, \"defacement\": 1, \"phishing\":2, \"malware\":3}}\n",
    "data['Category'] = data['type']\n",
    "data = data.replace(rem)"
   ]
  },
  {
   "cell_type": "markdown",
   "id": "69a67189",
   "metadata": {
    "papermill": {
     "duration": 0.007918,
     "end_time": "2024-05-20T00:54:57.840218",
     "exception": false,
     "start_time": "2024-05-20T00:54:57.832300",
     "status": "completed"
    },
    "tags": []
   },
   "source": [
    "---\n",
    "## Feature Extraction"
   ]
  },
  {
   "cell_type": "code",
   "execution_count": null,
   "id": "3bfd4e87",
   "metadata": {
    "papermill": {
     "duration": 0.00809,
     "end_time": "2024-05-20T00:54:57.856489",
     "exception": false,
     "start_time": "2024-05-20T00:54:57.848399",
     "status": "completed"
    },
    "tags": []
   },
   "outputs": [],
   "source": []
  }
 ],
 "metadata": {
  "kaggle": {
   "accelerator": "none",
   "dataSources": [
    {
     "datasetId": 1486586,
     "sourceId": 2456026,
     "sourceType": "datasetVersion"
    }
   ],
   "dockerImageVersionId": 30698,
   "isGpuEnabled": false,
   "isInternetEnabled": true,
   "language": "python",
   "sourceType": "notebook"
  },
  "kernelspec": {
   "display_name": "Python 3",
   "language": "python",
   "name": "python3"
  },
  "language_info": {
   "codemirror_mode": {
    "name": "ipython",
    "version": 3
   },
   "file_extension": ".py",
   "mimetype": "text/x-python",
   "name": "python",
   "nbconvert_exporter": "python",
   "pygments_lexer": "ipython3",
   "version": "3.10.13"
  },
  "papermill": {
   "default_parameters": {},
   "duration": 27.518695,
   "end_time": "2024-05-20T00:54:58.586044",
   "environment_variables": {},
   "exception": null,
   "input_path": "__notebook__.ipynb",
   "output_path": "__notebook__.ipynb",
   "parameters": {},
   "start_time": "2024-05-20T00:54:31.067349",
   "version": "2.5.0"
  }
 },
 "nbformat": 4,
 "nbformat_minor": 5
}
